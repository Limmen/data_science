{
 "cells": [
  {
   "cell_type": "markdown",
   "metadata": {},
   "source": [
    "# Expectation Maximization for Gaussian Mixture Models\n",
    "\n",
    "In this notebook we'll do a simple implementation of the Expectation Maximization algorithm for estimating unknown parameters in a Gaussian Mixture Model.\n",
    "\n",
    "As a quick review, a Gaussian mixture model is a linear combination of Gaussians, we consider a stochastic process that generates samples in $\\mathbb{R}$, similar to a univariate distribution. The difference is that in a mixture model we assume that the samples are drawn from a set of $k$ mixtures. For each sample the mixture weights define the probability that the sample was drawn from each of the underlying distributions.\n",
    "\n",
    "More formally, \n",
    "\n",
    "Given a finite set of probability density functions $p_1(x), ..., p_n(x)$, or corresponding cumulative distribution functions $P_1(x), ... , P_n(x)$ and weights $\\pi_1, …, \\pi_n$ such that $\\pi_i \\geq 0$ and $\\Sigma \\pi_i = 1$, the mixture distribution can be represented by writing either the density, f, or the distribution function, F, as a sum (which in both cases is a convex combination):\n",
    "\n",
    "$${\\displaystyle F(x)=\\sum _{i=1}^{n}\\,\\pi_{i}\\,P_{i}(x),}$$\n",
    "\n",
    "$${\\displaystyle f(x)=\\sum _{i=1}^{n}\\,\\pi_{i}\\,p_{i}(x).}$$\n",
    "\n",
    "This type of mixture, being a finite sum, is called a finite mixture, and in applications, an unqualified reference to a \"mixture density\" usually means a finite mixture. The case of a countably infinite set of components is covered formally by allowing ${\\displaystyle n=\\infty \\!}$.\n",
    "\n",
    "In this notebook we'll work with a specific type of mixture model, a **Gaussian Mixture Model**, that consists of a linear combination of Gaussians."
   ]
  },
  {
   "cell_type": "markdown",
   "metadata": {},
   "source": [
    "## Imports"
   ]
  },
  {
   "cell_type": "code",
   "execution_count": 1,
   "metadata": {},
   "outputs": [],
   "source": [
    "import matplotlib.pyplot as plt\n",
    "import seaborn as sns\n",
    "import numpy as np\n",
    "from scipy import stats\n",
    "import pandas as pd\n",
    "from math import sqrt, log, exp, pi\n",
    "from random import uniform\n",
    "sns.set_style(\"white\")\n",
    "%matplotlib inline"
   ]
  },
  {
   "cell_type": "markdown",
   "metadata": {},
   "source": [
    "## Define the Gaussian Mixture Model\n",
    "\n",
    "Lets define a Gaussian mixture model that we'll use later on for estimating the parameters of using EM. Of course since we create the model ourselves, we already know the parameters, the we simply want to test out whether we can also estimate them using EM and a data sample.\n",
    "\n",
    "$$\\mu_1 = 1, \\sigma_1 = 4, \\pi_1 = 0.65$$\n",
    "$$\\mu_1 = 2, \\sigma_2 = 10, \\pi_2 = 0.35$$"
   ]
  },
  {
   "cell_type": "code",
   "execution_count": 2,
   "metadata": {},
   "outputs": [],
   "source": [
    "mu_1 = 1.0\n",
    "sigma_1 = 4.0 \n",
    "pi_1 = 0.65\n",
    "mu_2 = 10.0\n",
    "sigma_2 = 2.0\n",
    "pi_2 = 0.35"
   ]
  },
  {
   "cell_type": "markdown",
   "metadata": {},
   "source": [
    "### Sample and Plot"
   ]
  },
  {
   "cell_type": "code",
   "execution_count": 4,
   "metadata": {},
   "outputs": [
    {
     "data": {
      "text/plain": [
       "<matplotlib.axes._subplots.AxesSubplot at 0x7f9ce7b658d0>"
      ]
     },
     "execution_count": 4,
     "metadata": {},
     "output_type": "execute_result"
    },
    {
     "data": {
      "image/png": "[encoded data removed]",
      "text/plain": [
       "<Figure size 432x288 with 1 Axes>"
      ]
     },
     "metadata": {
      "needs_background": "light"
     },
     "output_type": "display_data"
    }
   ],
   "source": [
    "sample_1 = np.random.normal(mu_1, sigma_1, int(1500*pi_1))\n",
    "sample_2 = np.random.normal(mu_2, sigma_2, int(1500*pi_2))\n",
    "total_sample=np.append(sample_1,sample_2)\n",
    "x = np.linspace(min(total_sample), max(total_sample), 2000)\n",
    "sns.distplot(total_sample, bins=20, kde=False)"
   ]
  },
  {
   "cell_type": "markdown",
   "metadata": {},
   "source": [
    "## Try fit the data with a single Gaussian"
   ]
  },
  {
   "cell_type": "code",
   "execution_count": 5,
   "metadata": {},
   "outputs": [
    {
     "data": {
      "text/plain": [
       "<matplotlib.legend.Legend at 0x7f9ce7c12e10>"
      ]
     },
     "execution_count": 5,
     "metadata": {},
     "output_type": "execute_result"
    },
    {
     "data": {
      "image/png": "[encoded data removed]",
      "text/plain": [
       "<Figure size 432x288 with 1 Axes>"
      ]
     },
     "metadata": {
      "needs_background": "light"
     },
     "output_type": "display_data"
    }
   ],
   "source": [
    "gaussian = stats.norm(np.mean(total_sample), np.std(total_sample)).pdf(x)\n",
    "sns.distplot(total_sample, bins=20, kde=False, norm_hist=True)\n",
    "plt.plot(x, gaussian, label='single gaussian')\n",
    "plt.legend()"
   ]
  },
  {
   "cell_type": "markdown",
   "metadata": {},
   "source": [
    "## Implement EM to fit the GMM \n",
    "\n",
    "Expectation Maximization is a useful estimator when the data is only partially observed. A GMM can be modeled as a partially observed distribution as the mixture identities of the data is not observed. That is, the mixture components are latent variables in the GMM.\n",
    "\n",
    "That is, lets consider $k=2$ univariate Gaussian distributions with resepctive density functions $f_1, f_2$ and respective parameters $(\\mu_1, \\sigma_1), (\\mu_2, \\sigma_2)$. Let $\\pi_1, \\pi_2$ be a probability distribution on $\\{1, 2\\}$. Then a sample from the mixture model can be seen as:\n",
    "$$X \\sim \\mathcal{\\mu_z, \\sigma_z} : \\quad Z \\sim \\pi$$\n",
    "\n",
    "This can also be modeled as a joint distribution $f_{X,Z}(x,z)$. The vector $X$ has density: \n",
    "$$p_{\\theta}(x) = \\sum_{j=1}^{k=2}\\pi_j f_j(x)$$\n",
    "\n",
    "For regular gaussian distributions, the maximum likelihood estimator is usually applied. For $n$ samples $x_1, ..., x_n$, the likelihood function is:\n",
    "$$L(\\theta) = \\prod_{i=1}^{n} p_{\\theta}(x_i)$$\n",
    "\n",
    "and the log likelihood function is:\n",
    "\n",
    "$$\\log L(\\theta) = \\log\\left(\\prod_{i=1}^{n} p_{\\theta}(x_i)\\right)$$\n",
    "$$ = \\sum_{i=1}^{n} \\log p_{\\theta}(x_i)$$\n",
    "\n",
    "For the gaussian mixture model we have that $p_{\\theta}(x_i) = \\sum_{j=1}^{k}\\pi_j f_j(x)$ which means that the log likelihood becomes:\n",
    "\n",
    "$$\\log L(\\theta) = \\sum_{i=1}^{n} \\log \\left(\\sum_{j=1}^{k}\\pi_j f_j(x) \\right)$$\n",
    "\n",
    "the maximum likelihood estimator is then:\n",
    "$$\\theta^{*} = argmax_{\\theta} \\log L(\\theta)$$\n",
    "\n",
    "However due to the sum $\\sum_{j=1}^{k}$ inside the log of the likelihood function this is typically a much harder problem to solve in closed form than the maximum likelihood estimation for a regular univariate Gaussian.\n",
    "\n",
    "Thus, we will instead use an iterative algorithm, called Expectation Maximization (EM) to estimate the paramters of the GMM. \n",
    "\n",
    "The insight of EM is that if the mixture components $z_1, ..., z_n$ associated with each data sample $x_1, ..., x_n$ were observed, then the likelihood estimation of the unknown parameters $\\theta$ would be much easier. \n",
    "\n",
    "EM works as follows. Firstly, we model the mixture components as latent variables $z$, meaning that we are now considering a joint distribution $p_{\\theta}(x, z)$. While it is a joint distribution we are still mostly interested in the marginal $p_{\\theta}(x)$ as that is what we need to do the ML-estimation. \n",
    "\n",
    "We can decompose the joint distribution as:\n",
    "\n",
    "$$p_{\\theta}(x,z) = P(x|z) \\cdot p(z)$$\n",
    "\n",
    "where, \n",
    "\n",
    "$$p_{\\theta}(z) = \\prod_{i=1}^{n} p_{\\theta}({z_i}) = \\prod_{i=1}^{n} \\pi_ {z_i}$$\n",
    "\n",
    "and,\n",
    "\n",
    "$$p_{\\theta}(x|z) = \\prod_{i=1}^{n} p_{\\theta}(x_i | z_i) = \\prod_{i=1}^{n} f_{z_i}(x_i)$$\n",
    "\n",
    "Now it becomes clear that if the latent variables $z$ were observed, then the likelihood function would becomes simple. That is, the original likelihood function:\n",
    "\n",
    "$$\\log L(\\theta) = \\sum_{i=1}^{n} \\log \\left(\\sum_{j=1}^{k}\\pi_j f_j(x) \\right)$$\n",
    "\n",
    "becomes:\n",
    "\n",
    "$$\\log L(\\theta) = \\sum_{i=1}^{n} \\log \\left(\\pi_{z_i} \\cdot f_{z_i}(x_i)\\right)$$\n",
    "$$ = \\sum_{i=1}^{n} \\log \\pi_{z_i} + \\log f_{z_i}(x_i)$$\n",
    "$$ = \\sum_{i=1}^{n} \\log \\pi_{z_i} + \\sum_{i=1}^{n} \\log f_{z_i}(x_i)$$\n",
    "\n",
    "However the problem is of course that we do **not** know observe the mixture components $z_i$. What EM does to get around this is to \"guess\" or estimate the **mixture weights** $\\hat{\\pi}_j$ and use those mixture weights to calculate the **expected** joint distribution over $x$ and $z$ (the E-step) and then use regular maximum likelihood estimation to calculate $\\theta$ that maximizes the expected log likelihood (the M-step).\n",
    "\n",
    "So to figure out how to compute the expected log likelihood, lets recall the the data distribution we are working with when modeling the GMM with latent variables:\n",
    "\n",
    "$$p_{\\theta}(x,z) = \\prod_{i=1}^{n} \\pi_{z_i} f_{z_i}(x_i)$$\n",
    "\n",
    "We now want to compute $\\mathbb{E}[p_{\\theta}(x,z)]$ given the observed values of $x$ as well as a guess for the parameters $\\theta_0$ that includes a guess of the mixture weights $\\hat{\\pi}_j$, that is we are interested in: $\\mathbb{E}[p_{\\theta}(x,z) | \\theta_0, x]$. Treating $\\theta_0$ and $x$ as given, the only random variable for this expectation is $p_{\\theta}(z | x, \\theta_0)$. \n",
    "\n",
    "We have that:\n",
    "\n",
    "$$p_{\\theta}(z | x ) = \\prod_{i=1}^{n} p_{\\theta}(z_i | x_i)$$\n",
    "$$ = \\prod_{i=1}^{n} \\frac{p_{\\theta}(z_i, x_i)}{p_{\\theta}(x_i)}$$\n",
    "\n",
    "where $p_{\\theta}(x_i)$ in the denominator is an normalizing constant and we have that:\n",
    "\n",
    "$$p_{\\theta}(z | x ) \\propto \\prod_{i=1}^{n} p_{\\theta}(z_i, x_i)$$\n",
    "$$ = \\prod_{i=1}^{n} \\pi_{z_i} f_{z_i}(x_i)$$\n",
    "\n",
    "That is, the probability that sample $i$ comes from mixture $j$ is:\n",
    "$$p_{i,j} \\propto \\pi_j \\cdot f_j (x_i)$$\n",
    "\n",
    "Recall the expectation formula:\n",
    "\n",
    "$$\\mathbb{E}_x[f(x)] = \\int f(x) \\cdot p_{x}(x) dx$$\n",
    "\n",
    "or in the discrete case:\n",
    "\n",
    "$$\\sum_x f(x) \\cdot p_x(x)$$\n",
    "\n",
    "Given the observed data $x$ and our initial guess of $\\theta_0$ and $\\hat{\\pi}_j$ we obtain a distribution that we can use to calculate $\\mathbb{E}[p_{\\theta}(x,z) | \\theta_0, x]$ (as $x$ and $\\theta_0$ are treated as constants rather than random variables here, we only have to integrate over $z$:\n",
    "\n",
    "$$\\mathbb{E}[p_{\\theta}(x,z) | \\theta_0, x] = \\int p_{\\theta}(x,z) \\cdot f(z | x, \\theta_0) dz$$\n",
    "$$= \\sum_{j=1}^{k} p_{\\theta}(x, z_j) \\cdot p(z_j | x, \\theta_0)$$\n",
    "$$= \\sum_{j=1}^{k}\\sum_{i=1}^{n} p_{\\theta}(x_i, z_j) \\cdot p(z_j | x_i, \\theta_0)$$\n",
    "\n",
    "As usual, we take the logarithm of the likelihood:\n",
    "\n",
    "$$= \\sum_{j=1}^{k}\\sum_{i=1}^{n} p_{\\theta}(x_i, z_j) \\cdot \\log p(z_j | x_i, \\theta_0)$$\n",
    "$$= \\sum_{j=1}^{k}\\sum_{i=1}^{n} p_{\\theta}(x_i, z_j) \\cdot \\log (\\pi_{j,\\theta_0} \\cdot f_{j,\\theta_0}(x_i))$$\n",
    "$$= \\sum_{j=1}^{k}\\sum_{i=1}^{n} p_{\\theta}(x_i, z_j) \\cdot (\\log \\pi_{j,\\theta_0} + \\log f_{j,\\theta_0}(x_i))$$\n",
    "\n",
    "Now when we have derived the expected log likelihood we can see that this likelihood function we can maximize with MLE quite easily as the mixture weights and Gaussian parameters are given by $\\theta_0$ the densities can be calculated for $x$ \n",
    "\n",
    "The MLE estimate is obtained by differentiating the likelihood function and equating it to zero and solving for $\\theta$. In the case where $\\theta$ are paramters of a Gaussian the MLE is simply the empirical mean, standard deviations and mixture weights.\n",
    "\n",
    "Once the MLE estimate have been computed we set $\\theta_1$ to be the MLE estimate and iterate."
   ]
  },
  {
   "cell_type": "code",
   "execution_count": 15,
   "metadata": {},
   "outputs": [],
   "source": [
    "def em(sample, n_iterations):\n",
    "    \n",
    "    # Initial guess of Theta_0\n",
    "    mu_1 = np.random.choice(sample, 1)\n",
    "    mu_2 = np.random.choice(sample, 1)\n",
    "    std_1 = np.std(sample)/1\n",
    "    std_2 = np.std(sample)/2\n",
    "    pi_1 = 1\n",
    "    pi_2 = 1\n",
    "    \n",
    "    # Iterative estimation\n",
    "    for it in range(n_iterations):\n",
    "        \n",
    "        # Logging\n",
    "        if it % 100 == 0:\n",
    "            print(\"iteration: {}\".format(it))\n",
    "            print(\"mu_1: {}, mu_2: {}, std_1:{}, std_2:{}, pi_1: {}, pi_2: {}\".format(mu_1, mu_2, std_1, std_2, pi_1, pi_2))\n",
    "        \n",
    "        \n",
    "        # E-step: compute the expected log likelihoods for each data point x_i \n",
    "        pijs = []\n",
    "        for i in range(len(sample)):\n",
    "            # Use observed data and guess of Theta_0 to compute (p(z_j | x_i, \\theta_0)) for all j and i\n",
    "            \n",
    "            s = 0\n",
    "            pij_1 = pi_1*(1/(std_1*sqrt(2*np.pi)))*np.exp((-1/2)* pow(((sample[i]-mu_1)/std_1), 2))\n",
    "            pij_2 = pi_2*(1/(std_2*sqrt(2*np.pi)))*np.exp((-1/2)* pow(((sample[i]-mu_2)/std_2), 2))\n",
    "            \n",
    "            s = pij_1 + pij_2\n",
    "\n",
    "            pij_1 = pij_1/s\n",
    "            pij_2 = pij_2/s\n",
    "\n",
    "            pijs.append([pij_1, pij_2])\n",
    "        \n",
    "        # M-step, maximize theta_1 with respect to the expected log_likelihoods \n",
    "        # (no differentiation is necessary as maxima is equal to the empirical mean, std, and mixture weight)\n",
    "        pi_1 = 0\n",
    "        pi_2 = 0\n",
    "        mu_1 = 0\n",
    "        mu_2 = 0\n",
    "\n",
    "        for i in range(len(sample)):\n",
    "            pi_1 = pi_1 + pijs[i][0]\n",
    "            pi_2 = pi_2 + pijs[i][1]\n",
    "            mu_1 = mu_1 + pijs[i][0]*sample[i]\n",
    "            mu_2 = mu_2 + pijs[i][1]*sample[i]\n",
    "            \n",
    "        # Arithmethic mean of the sample data given the estimated mixture counts\n",
    "        mu_1 = mu_1/pi_1\n",
    "        mu_2 = mu_2/pi_2\n",
    "\n",
    "        std_1 = 0\n",
    "        std_2 = 0\n",
    "\n",
    "        for i in range(len(sample)):\n",
    "            std_1 = std_1 + pijs[i][0]* pow((sample[i] - mu_1), 2)\n",
    "            std_2 = std_2 + pijs[i][1]* pow((sample[i] - mu_2), 2)\n",
    "        \n",
    "        # Standard error given the arithmetic means and estimated mixture counts\n",
    "        std_1 = sqrt(std_1 / pi_1)\n",
    "        std_2 = sqrt(std_2 / pi_2)\n",
    "        \n",
    "        # Normalize mixture counts into probabilities\n",
    "        pi_1 = pi_1/len(sample)\n",
    "        pi_2 = pi_2/len(sample)\n",
    "        \n",
    "    return mu_1, mu_2, std_1, std_2, pi_1, pi_2"
   ]
  },
  {
   "cell_type": "code",
   "execution_count": 16,
   "metadata": {},
   "outputs": [
    {
     "name": "stdout",
     "output_type": "stream",
     "text": [
      "iteration: 0\n",
      "mu_1: [-2.58184348], mu_2: [-1.02884935], std_1:5.558732427896689, std_2:2.7793662139483444, pi_1: 1, pi_2: 1\n",
      "iteration: 100\n",
      "mu_1: [9.91774358], mu_2: [0.68884706], std_1:2.004476866808404, std_2:3.931744638105659, pi_1: [0.35499656], pi_2: [0.64500344]\n",
      "iteration: 200\n",
      "mu_1: [9.91802481], mu_2: [0.68930597], std_1:2.004297343588469, std_2:3.9320551820672645, pi_1: [0.35495367], pi_2: [0.64504633]\n",
      "iteration: 300\n",
      "mu_1: [9.91802482], mu_2: [0.68930598], std_1:2.004297339115232, std_2:3.932055189806834, pi_1: [0.35495367], pi_2: [0.64504633]\n",
      "iteration: 400\n",
      "mu_1: [9.91802482], mu_2: [0.68930598], std_1:2.00429733911512, std_2:3.9320551898070275, pi_1: [0.35495367], pi_2: [0.64504633]\n",
      "iteration: 500\n",
      "mu_1: [9.91802482], mu_2: [0.68930598], std_1:2.00429733911512, std_2:3.9320551898070275, pi_1: [0.35495367], pi_2: [0.64504633]\n",
      "iteration: 600\n",
      "mu_1: [9.91802482], mu_2: [0.68930598], std_1:2.00429733911512, std_2:3.9320551898070275, pi_1: [0.35495367], pi_2: [0.64504633]\n",
      "iteration: 700\n",
      "mu_1: [9.91802482], mu_2: [0.68930598], std_1:2.00429733911512, std_2:3.9320551898070275, pi_1: [0.35495367], pi_2: [0.64504633]\n",
      "iteration: 800\n",
      "mu_1: [9.91802482], mu_2: [0.68930598], std_1:2.00429733911512, std_2:3.9320551898070275, pi_1: [0.35495367], pi_2: [0.64504633]\n",
      "iteration: 900\n",
      "mu_1: [9.91802482], mu_2: [0.68930598], std_1:2.00429733911512, std_2:3.9320551898070275, pi_1: [0.35495367], pi_2: [0.64504633]\n"
     ]
    }
   ],
   "source": [
    "mu_1, mu_2, std_1, std_2, pi_1, pi_2 = em(total_sample, 1000)"
   ]
  },
  {
   "cell_type": "code",
   "execution_count": 19,
   "metadata": {},
   "outputs": [
    {
     "name": "stdout",
     "output_type": "stream",
     "text": [
      "mu_1: [9.91802482], mu_2: [0.68930598], std_1:2.00429733911512, std_2:3.9320551898070275, pi_1: [0.35495367], pi_2: [0.64504633]\n"
     ]
    }
   ],
   "source": [
    "print(\"mu_1: {}, mu_2: {}, std_1:{}, std_2:{}, pi_1: {}, pi_2: {}\".format(mu_1, mu_2, std_1, std_2, pi_1, pi_2))"
   ]
  },
  {
   "cell_type": "code",
   "execution_count": 24,
   "metadata": {},
   "outputs": [
    {
     "data": {
      "text/plain": [
       "<matplotlib.legend.Legend at 0x7f9ce6604950>"
      ]
     },
     "execution_count": 24,
     "metadata": {},
     "output_type": "execute_result"
    },
    {
     "data": {
      "image/png": "[encoded data removed]",
      "text/plain": [
       "<Figure size 432x288 with 1 Axes>"
      ]
     },
     "metadata": {
      "needs_background": "light"
     },
     "output_type": "display_data"
    }
   ],
   "source": [
    "gaussian_1 = stats.norm(mu_1, std_1).pdf(x)\n",
    "gaussian_2 = stats.norm(mu_2, std_2).pdf(x)\n",
    "sns.distplot(total_sample, bins=20, kde=False, norm_hist=True)\n",
    "plt.plot(x, gaussian_1*pi_1, label='1st gaussian')\n",
    "plt.plot(x, gaussian_2*pi_2, label='2nd gaussian')\n",
    "plt.legend()"
   ]
  }
 ],
 "metadata": {
  "kernelspec": {
   "display_name": "Python 3",
   "language": "python",
   "name": "python3"
  },
  "language_info": {
   "codemirror_mode": {
    "name": "ipython",
    "version": 3
   },
   "file_extension": ".py",
   "mimetype": "text/x-python",
   "name": "python",
   "nbconvert_exporter": "python",
   "pygments_lexer": "ipython3",
   "version": "3.7.4"
  }
 },
 "nbformat": 4,
 "nbformat_minor": 2
}
